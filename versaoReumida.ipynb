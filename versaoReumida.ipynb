{
 "cells": [
  {
   "cell_type": "code",
   "execution_count": 130,
   "metadata": {},
   "outputs": [],
   "source": [
    "import re \n",
    "import pandas as pd\n",
    "#delititado por espaço\n",
    "\n",
    "#exemplo = input('digite uma sentença \\n')\n",
    "exemplo = '42 +                  ( 675 * 31 ) - 20925 -1'\n",
    "\n",
    "\n",
    "#criando os erros caso passe algo nao aceito\n",
    "#se eu passar uma string ele deve emitir um erro\n",
    "\n",
    "#remover os os espaços em exceço\n",
    "demo = \" \".join(exemplo.split())\n",
    "\n",
    "operations=[]\n",
    "teste =re.split(r' ', demo)\n",
    "\n",
    "\n",
    "x1= filter(lambda i: re.search(r'(?i)\\d',i,re.I), teste)\n",
    "numeros= list(x1)\n",
    "x2 =filter(lambda i:re.search(r'\\(', i),teste)\n",
    "x_parentEsqu=list(x2)\n",
    "x3 =filter(lambda i:re.search(r'\\)', i),teste)\n",
    "x_parentDire=list(x3)\n",
    "for i in teste:\n",
    "    if re.findall(r'[- / * + ** =]',i):\n",
    "        operations.append(i)\n",
    "\n",
    "table_of_operations = {'*':'Mutiplicacao', '**':'Potenciacao','+':'Soma', '-':'Subtracao', '/': 'Divisao'} \n",
    "table_of_parenthesis={'(':'ParentEsq', ')':'ParentDir'}\n",
    "table_of_types = {}\n",
    "\n",
    "\n",
    "valor=[]\n",
    "#primeiro para Operador\n",
    "for i in teste:\n",
    "    if i in operations and i not in numeros :\n",
    "        valor.append(table_of_operations[i])\n",
    "    elif i in x_parentEsqu:\n",
    "        valor.append(table_of_parenthesis[i])\n",
    "    elif i in x_parentDire:\n",
    "        valor.append(table_of_parenthesis[i])    \n",
    "    else :\n",
    "        valor.append(i)\n",
    "        \n",
    "        \n",
    "tipo=[]\n",
    "#primeiro para Operador\n",
    "for i in teste:\n",
    "    if i in operations and i not in numeros:\n",
    "        tipo.append('Operador')\n",
    "    elif i in x_parentEsqu:\n",
    "        tipo.append('Pontuação')\n",
    "    elif i in x_parentDire:\n",
    "        tipo.append('Pontuação')    \n",
    "    else :\n",
    "        tipo.append('Numero')     \n",
    "        \n",
    "result =list(zip(teste,tipo,valor))        \n"
   ]
  },
  {
   "cell_type": "code",
   "execution_count": 135,
   "metadata": {},
   "outputs": [
    {
     "data": {
      "text/plain": [
       "['42', '+', '(', '675', '*', '31', ')', '-', '20925', '-1']"
      ]
     },
     "execution_count": 135,
     "metadata": {},
     "output_type": "execute_result"
    }
   ],
   "source": [
    "teste"
   ]
  },
  {
   "cell_type": "code",
   "execution_count": 132,
   "metadata": {},
   "outputs": [],
   "source": [
    "\n",
    "df2 = pd.DataFrame([\n",
    "      result[0],\n",
    "      result[1],\n",
    "      result[2],\n",
    "      result[3],\n",
    "      result[4],\n",
    "      result[5],\n",
    "      result[6],\n",
    "      result[7],\n",
    "      result[8]\n",
    "    ],\n",
    "  columns=['Lexema', 'Tipo','Valor']\n",
    ")"
   ]
  },
  {
   "cell_type": "code",
   "execution_count": 133,
   "metadata": {},
   "outputs": [
    {
     "data": {
      "text/html": [
       "<div>\n",
       "<style scoped>\n",
       "    .dataframe tbody tr th:only-of-type {\n",
       "        vertical-align: middle;\n",
       "    }\n",
       "\n",
       "    .dataframe tbody tr th {\n",
       "        vertical-align: top;\n",
       "    }\n",
       "\n",
       "    .dataframe thead th {\n",
       "        text-align: right;\n",
       "    }\n",
       "</style>\n",
       "<table border=\"1\" class=\"dataframe\">\n",
       "  <thead>\n",
       "    <tr style=\"text-align: right;\">\n",
       "      <th></th>\n",
       "      <th>Lexema</th>\n",
       "      <th>Tipo</th>\n",
       "      <th>Valor</th>\n",
       "    </tr>\n",
       "  </thead>\n",
       "  <tbody>\n",
       "    <tr>\n",
       "      <th>0</th>\n",
       "      <td>42</td>\n",
       "      <td>Numero</td>\n",
       "      <td>42</td>\n",
       "    </tr>\n",
       "    <tr>\n",
       "      <th>1</th>\n",
       "      <td>+</td>\n",
       "      <td>Operador</td>\n",
       "      <td>Soma</td>\n",
       "    </tr>\n",
       "    <tr>\n",
       "      <th>2</th>\n",
       "      <td>(</td>\n",
       "      <td>Pontuação</td>\n",
       "      <td>ParentEsq</td>\n",
       "    </tr>\n",
       "    <tr>\n",
       "      <th>3</th>\n",
       "      <td>675</td>\n",
       "      <td>Numero</td>\n",
       "      <td>675</td>\n",
       "    </tr>\n",
       "    <tr>\n",
       "      <th>4</th>\n",
       "      <td>*</td>\n",
       "      <td>Operador</td>\n",
       "      <td>Mutiplicacao</td>\n",
       "    </tr>\n",
       "    <tr>\n",
       "      <th>5</th>\n",
       "      <td>31</td>\n",
       "      <td>Numero</td>\n",
       "      <td>31</td>\n",
       "    </tr>\n",
       "    <tr>\n",
       "      <th>6</th>\n",
       "      <td>)</td>\n",
       "      <td>Pontuação</td>\n",
       "      <td>ParentDir</td>\n",
       "    </tr>\n",
       "    <tr>\n",
       "      <th>7</th>\n",
       "      <td>-</td>\n",
       "      <td>Operador</td>\n",
       "      <td>Subtracao</td>\n",
       "    </tr>\n",
       "    <tr>\n",
       "      <th>8</th>\n",
       "      <td>20925</td>\n",
       "      <td>Numero</td>\n",
       "      <td>20925</td>\n",
       "    </tr>\n",
       "  </tbody>\n",
       "</table>\n",
       "</div>"
      ],
      "text/plain": [
       "  Lexema       Tipo         Valor\n",
       "0     42     Numero            42\n",
       "1      +   Operador          Soma\n",
       "2      (  Pontuação     ParentEsq\n",
       "3    675     Numero           675\n",
       "4      *   Operador  Mutiplicacao\n",
       "5     31     Numero            31\n",
       "6      )  Pontuação     ParentDir\n",
       "7      -   Operador     Subtracao\n",
       "8  20925     Numero         20925"
      ]
     },
     "execution_count": 133,
     "metadata": {},
     "output_type": "execute_result"
    }
   ],
   "source": [
    "df2"
   ]
  },
  {
   "cell_type": "code",
   "execution_count": 74,
   "metadata": {},
   "outputs": [
    {
     "data": {
      "text/plain": [
       "[('42', 'Numero', '42'),\n",
       " ('+', 'Operador', 'Soma'),\n",
       " ('(', 'Pontuação', 'ParentEsq'),\n",
       " ('675', 'Numero', '675'),\n",
       " ('*', 'Operador', 'Mutiplicacao'),\n",
       " ('31', 'Numero', '31'),\n",
       " (')', 'Pontuação', 'ParentDir'),\n",
       " ('-', 'Operador', 'Subtracao'),\n",
       " ('20925', 'Numero', '20925'),\n",
       " ('-1', 'Numero', '-1')]"
      ]
     },
     "execution_count": 74,
     "metadata": {},
     "output_type": "execute_result"
    }
   ],
   "source": [
    "result"
   ]
  },
  {
   "cell_type": "markdown",
   "metadata": {},
   "source": [
    "## Possiveis erros\n",
    "* passar uma string ele quebra \n",
    "* solução (jogar um try catch para emitir uma mensagem de erro)\n",
    "* Deixar a quantidade de posiçoes do Dataframe dinamica"
   ]
  },
  {
   "cell_type": "code",
   "execution_count": null,
   "metadata": {},
   "outputs": [],
   "source": []
  },
  {
   "cell_type": "code",
   "execution_count": null,
   "metadata": {},
   "outputs": [],
   "source": []
  }
 ],
 "metadata": {
  "kernelspec": {
   "display_name": "Python 3",
   "language": "python",
   "name": "python3"
  },
  "language_info": {
   "codemirror_mode": {
    "name": "ipython",
    "version": 3
   },
   "file_extension": ".py",
   "mimetype": "text/x-python",
   "name": "python",
   "nbconvert_exporter": "python",
   "pygments_lexer": "ipython3",
   "version": "3.7.4"
  }
 },
 "nbformat": 4,
 "nbformat_minor": 4
}
