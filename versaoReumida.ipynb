{
 "cells": [
  {
   "cell_type": "code",
<<<<<<< HEAD
   "execution_count": null,
=======
   "execution_count": 3,
>>>>>>> b7ed933372779bc2c1f6272bd1f19c07078a39f6
   "metadata": {},
   "outputs": [],
   "source": [
    "import re \n",
    "import pandas as pd\n",
<<<<<<< HEAD
    "#Incializa o valor da lista teste\n",
    "teste = [0]        \n",
=======
    "#delititado por espaço\n",
    "\n",
    "#exemplo = input('digite uma sentença \\n')\n",
    "exemplo = '42 + ( 675 * 31 ) - 20925 -1'\n",
>>>>>>> b7ed933372779bc2c1f6272bd1f19c07078a39f6
    "\n",
    "#Input da expressão regular\n",
    "exemplo =  input(\"Digite a expressão: \")\n",
    "\n",
    "#Condição para caso haja caractere e impressão de erro\n",
    "if (re.search(r'[a-zA-Z]',exemplo)):\n",
    "    raise Exception(\"Erro: Não é aceito caractere\")\n",
    "        \n",
    "else:\n",
    "    #Remover os os espaços em exceço\n",
    "    demo = \" \".join(exemplo.split())\n",
    "\n",
    "operations=[]\n",
    "teste = re.split(r' ', demo)\n",
    "\n",
    "#Identificação de numeros e parenteses\n",
    "x1= filter(lambda i: re.search(r'(?i)\\d',i,re.I), teste)\n",
    "numeros= list(x1)\n",
    "x2 =filter(lambda i:re.search(r'\\(', i),teste)\n",
    "x_parentEsqu=list(x2)\n",
    "x3 =filter(lambda i:re.search(r'\\)', i),teste)\n",
    "x_parentDire=list(x3)\n",
    "    \n",
    "#Verificação de operações\n",
    "for i in teste:\n",
    "    if re.findall(r'[- / * + **]',i):\n",
    "        operations.append(i)\n",
    "            \n",
    "#Atribuição para operações e parenteses\n",
    "table_of_operations = {'*':'Mutiplicacao', '**':'Potenciacao','+':'Soma', '-':'Subtracao', '/': 'Divisao'} \n",
    "table_of_parenthesis={'(':'ParentEsq', ')':'ParentDir'}\n",
    "table_of_types = {}\n",
    "\n",
    "\n",
    "valor=[]\n",
    "#Tabela valor\n",
    "for i in teste:\n",
    "    if i in operations and i not in numeros :\n",
    "        valor.append(table_of_operations[i])\n",
    "    elif i in x_parentEsqu:\n",
    "        valor.append(table_of_parenthesis[i])\n",
    "    elif i in x_parentDire:\n",
    "        valor.append(table_of_parenthesis[i])    \n",
    "    else :\n",
    "        valor.append(i)\n",
    "        \n",
    "        \n",
    "tipo=[]\n",
    "#Tabela tipo\n",
    "for i in teste:\n",
    "    if i in operations and i not in numeros:\n",
    "        tipo.append('Operador')\n",
    "    elif i in x_parentEsqu:\n",
    "        tipo.append('Pontuação')\n",
    "    elif i in x_parentDire:\n",
    "        tipo.append('Pontuação')    \n",
    "    else :\n",
    "        tipo.append('Numero')     \n",
    "        \n",
<<<<<<< HEAD
    "result =list(zip(teste,tipo,valor))    \n",
    "    \n",
    "#Tabela através do pandas\n",
=======
    "        result =list(zip(teste,tipo,valor))        \n"
   ]
  },
  {
   "cell_type": "code",
   "execution_count": 4,
   "metadata": {},
   "outputs": [
    {
     "data": {
      "text/plain": [
       "['42', '+', '(', '675', '*', '31', ')', '-', '20925', '-1']"
      ]
     },
     "execution_count": 4,
     "metadata": {},
     "output_type": "execute_result"
    }
   ],
   "source": [
    "teste"
   ]
  },
  {
   "cell_type": "code",
   "execution_count": 13,
   "metadata": {},
   "outputs": [],
   "source": [
    "\n",
>>>>>>> b7ed933372779bc2c1f6272bd1f19c07078a39f6
    "df2 = pd.DataFrame([\n",
    "    result[0],\n",
    "    result[1],\n",
    "    result[2],\n",
    "    result[3],\n",
    "    result[4],\n",
    "    result[5],\n",
    "    result[6],\n",
    "    result[7],\n",
    "    result[8],\n",
    "    result[9],\n",
    "    result[10],\n",
    "    result[11]\n",
    "],\n",
    "    columns=['Lexema', 'Tipo','Valor']\n",
    ")\n",
    "print(\" \")\n",
    "print(df2)"
   ]
  },
  {
   "cell_type": "code",
   "execution_count": null,
   "metadata": {},
   "outputs": [],
   "source": [
    "df2"
   ]
  },
  {
   "cell_type": "code",
<<<<<<< HEAD
=======
   "execution_count": 74,
   "metadata": {},
   "outputs": [
    {
     "data": {
      "text/plain": [
       "[('42', 'Numero', '42'),\n",
       " ('+', 'Operador', 'Soma'),\n",
       " ('(', 'Pontuação', 'ParentEsq'),\n",
       " ('675', 'Numero', '675'),\n",
       " ('*', 'Operador', 'Mutiplicacao'),\n",
       " ('31', 'Numero', '31'),\n",
       " (')', 'Pontuação', 'ParentDir'),\n",
       " ('-', 'Operador', 'Subtracao'),\n",
       " ('20925', 'Numero', '20925'),\n",
       " ('-1', 'Numero', '-1')]"
      ]
     },
     "execution_count": 74,
     "metadata": {},
     "output_type": "execute_result"
    }
   ],
   "source": [
    "result"
   ]
  },
  {
   "cell_type": "markdown",
   "metadata": {},
   "source": [
    "## Possiveis erros\n",
    "* passar uma string ele quebra (OK)\n",
    "* solução (jogar um try catch para emitir uma mensagem de erro) (X) -> foi usado uma raise\n",
    "* Deixar a quantidade de posiçoes do Dataframe dinamica (nao será consertado)\n",
    "* CRIAR O README"
   ]
  },
  {
   "cell_type": "code",
   "execution_count": null,
   "metadata": {},
   "outputs": [],
   "source": []
  },
  {
   "cell_type": "code",
>>>>>>> b7ed933372779bc2c1f6272bd1f19c07078a39f6
   "execution_count": null,
   "metadata": {},
   "outputs": [],
   "source": []
  }
 ],
 "metadata": {
  "kernelspec": {
   "display_name": "Python 3",
   "language": "python",
   "name": "python3"
  },
  "language_info": {
   "codemirror_mode": {
    "name": "ipython",
    "version": 3
   },
   "file_extension": ".py",
   "mimetype": "text/x-python",
   "name": "python",
   "nbconvert_exporter": "python",
   "pygments_lexer": "ipython3",
   "version": "3.7.4"
  }
 },
 "nbformat": 4,
 "nbformat_minor": 4
}
