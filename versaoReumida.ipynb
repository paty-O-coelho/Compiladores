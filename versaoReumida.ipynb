{
 "cells": [
  {
   "cell_type": "code",
   "execution_count": 14,
   "metadata": {},
   "outputs": [
    {
     "name": "stdout",
     "output_type": "stream",
     "text": [
      "Erro: não é aceito caractere\n"
     ]
    }
   ],
   "source": [
    "import re \n",
    "import pandas as pd\n",
    "#delititado por espaço\n",
    "\n",
    "#exemplo = input('digite uma sentença \\n')\n",
    "exemplo = 'a42 + ( 675 * 31 ) - 20925 -1'\n",
    "\n",
    "\n",
    "#criando os erros caso passe algo nao aceito\n",
    "#se eu passar uma string ele deve emitir um erro\n",
    "for i in exemplo:\n",
    "    if (re.search(r'[a-zA-Z]',i)):\n",
    "        print(\"Erro: não é aceito caractere\")\n",
    "        break\n",
    "        \n",
    "    else:\n",
    "        #remover os os espaços em exceço\n",
    "        demo = \" \".join(exemplo.split())\n",
    "\n",
    "        operations=[]\n",
    "        teste =re.split(r' ', demo)\n",
    "\n",
    "\n",
    "        x1= filter(lambda i: re.search(r'(?i)\\d',i,re.I), teste)\n",
    "        numeros= list(x1)\n",
    "        x2 =filter(lambda i:re.search(r'\\(', i),teste)\n",
    "        x_parentEsqu=list(x2)\n",
    "        x3 =filter(lambda i:re.search(r'\\)', i),teste)\n",
    "        x_parentDire=list(x3)\n",
    "        for i in teste:\n",
    "            if re.findall(r'[- / * + ** =]',i):\n",
    "                operations.append(i)\n",
    "\n",
    "        table_of_operations = {'*':'Mutiplicacao', '**':'Potenciacao','+':'Soma', '-':'Subtracao', '/': 'Divisao'} \n",
    "        table_of_parenthesis={'(':'ParentEsq', ')':'ParentDir'}\n",
    "        table_of_types = {}\n",
    "\n",
    "\n",
    "        valor=[]\n",
    "        #primeiro para Operador\n",
    "        for i in teste:\n",
    "            if i in operations and i not in numeros :\n",
    "                valor.append(table_of_operations[i])\n",
    "            elif i in x_parentEsqu:\n",
    "                valor.append(table_of_parenthesis[i])\n",
    "            elif i in x_parentDire:\n",
    "                valor.append(table_of_parenthesis[i])    \n",
    "            else :\n",
    "                valor.append(i)\n",
    "        \n",
    "        \n",
    "        tipo=[]\n",
    "        #primeiro para Operador\n",
    "        for i in teste:\n",
    "            if i in operations and i not in numeros:\n",
    "                tipo.append('Operador')\n",
    "            elif i in x_parentEsqu:\n",
    "                tipo.append('Pontuação')\n",
    "            elif i in x_parentDire:\n",
    "                tipo.append('Pontuação')    \n",
    "            else :\n",
    "                tipo.append('Numero')     \n",
    "        \n",
    "        result =list(zip(teste,tipo,valor))        \n"
   ]
  },
  {
   "cell_type": "code",
   "execution_count": 15,
   "metadata": {},
   "outputs": [
    {
     "data": {
      "text/plain": [
       "['42', '+', 'a', '+', '(', '675', '*', '31', ')', '-', '20925', '-1']"
      ]
     },
     "execution_count": 15,
     "metadata": {},
     "output_type": "execute_result"
    }
   ],
   "source": [
    "teste"
   ]
  },
  {
   "cell_type": "code",
   "execution_count": 13,
   "metadata": {},
   "outputs": [],
   "source": [
    "\n",
    "df2 = pd.DataFrame([\n",
    "      result[0],\n",
    "      result[1],\n",
    "      result[2],\n",
    "      result[3],\n",
    "      result[4],\n",
    "      result[5],\n",
    "      result[6],\n",
    "      result[7],\n",
    "      result[8]\n",
    "    ],\n",
    "  columns=['Lexema', 'Tipo','Valor']\n",
    ")"
   ]
  },
  {
   "cell_type": "code",
   "execution_count": null,
   "metadata": {},
   "outputs": [],
   "source": [
    "df2"
   ]
  },
  {
   "cell_type": "code",
   "execution_count": 74,
   "metadata": {},
   "outputs": [
    {
     "data": {
      "text/plain": [
       "[('42', 'Numero', '42'),\n",
       " ('+', 'Operador', 'Soma'),\n",
       " ('(', 'Pontuação', 'ParentEsq'),\n",
       " ('675', 'Numero', '675'),\n",
       " ('*', 'Operador', 'Mutiplicacao'),\n",
       " ('31', 'Numero', '31'),\n",
       " (')', 'Pontuação', 'ParentDir'),\n",
       " ('-', 'Operador', 'Subtracao'),\n",
       " ('20925', 'Numero', '20925'),\n",
       " ('-1', 'Numero', '-1')]"
      ]
     },
     "execution_count": 74,
     "metadata": {},
     "output_type": "execute_result"
    }
   ],
   "source": [
    "result"
   ]
  },
  {
   "cell_type": "markdown",
   "metadata": {},
   "source": [
    "## Possiveis erros\n",
    "* passar uma string ele quebra \n",
    "* solução (jogar um try catch para emitir uma mensagem de erro)\n",
    "* Deixar a quantidade de posiçoes do Dataframe dinamica"
   ]
  },
  {
   "cell_type": "code",
   "execution_count": null,
   "metadata": {},
   "outputs": [],
   "source": []
  },
  {
   "cell_type": "code",
   "execution_count": null,
   "metadata": {},
   "outputs": [],
   "source": []
  }
 ],
 "metadata": {
  "kernelspec": {
   "display_name": "Python 3",
   "language": "python",
   "name": "python3"
  },
  "language_info": {
   "codemirror_mode": {
    "name": "ipython",
    "version": 3
   },
   "file_extension": ".py",
   "mimetype": "text/x-python",
   "name": "python",
   "nbconvert_exporter": "python",
   "pygments_lexer": "ipython3",
   "version": "3.7.6"
  }
 },
 "nbformat": 4,
 "nbformat_minor": 4
}
