{
 "cells": [
  {
   "cell_type": "markdown",
   "metadata": {},
   "source": [
    "Para determinar PRIMEIRO(X):\n",
    "Considere A ∈ V, β ∈ (V ∪ T) γ ∈ (V ∪ T)*.\n",
    "1.     Se x é um terminal, então primeiro(x) = {x}.\n",
    " \n",
    "2. Se X é não-terminal e X → aA é uma produção, então se acrescenta a\n",
    "ao conjunto PRIMEIRO de x (obs.: a ≠ ε).\n",
    "a.     Se X produz ε, ε deve ser adicionado ao conjunto PRIMEIRO de x.\n",
    " \n",
    "3. Se X → Y1Y2...Yk é uma produção, então todo i tal que todos Y1...Yi-1\n",
    "são não-terminais e PRIMEIRO(Yj) contém ε, onde j=1,2...i-1. acrescente\n",
    "todo símbolo diferente de ε de PRIMEIRO(Yj) a PRIMEIRO(X).\n",
    "a. Se ε ∈ PRIMEIRO(Y), para todo i=1,2..k. então acrescente ε a\n",
    "PRIMEIRO(X).\n",
    "\n",
    "#### Entrada\n",
    "E → TG\n",
    "\n",
    "G → +TG | ε\n",
    "\n",
    "T → FH\n",
    "\n",
    "H → *FH | ε\n",
    "\n",
    "F → (E) | id\n",
    "\n",
    "#### Saida\n",
    "\n",
    "Primeiro (E) = Primeiro(T) = Primeiro(F) ={ (, id }\n",
    "\n",
    "Primeiro (G) = {+, ε}\n",
    "\n",
    "Primeiro (T) = Primeiro(F) = {(, id}\n",
    "\n",
    "Primeiro (H) = {*, ε}\n",
    "\n",
    "Primeiro (F) = {(, id}\n"
   ]
  },
  {
   "cell_type": "code",
   "execution_count": 2,
   "metadata": {},
   "outputs": [],
   "source": [
    "from collections import OrderedDict\n",
    "# PATRICIA\n",
    "REGRAS = []  \n",
    "PRIMEIROS = []  \n",
    "\n",
    "DRegras = OrderedDict()  \n",
    "DPrimeiro = OrderedDict()  \n",
    "DSegundos = OrderedDict()  \n",
    "\n"
   ]
  },
  {
   "cell_type": "code",
   "execution_count": 3,
   "metadata": {},
   "outputs": [],
   "source": [
    "def primeiro(PRIMEIROS,REGRAS):\n",
    "    for i in REGRAS:\n",
    "        if i[0][0]not in PRIMEIROS:\n",
    "            PRIMEIROS.append(i[0][0])\n",
    "            DPrimeiro[i[0][0]]= []\n",
    "            DSegundos[i[0][0]]=[]\n",
    "\n",
    "with open(\"gramatica.txt\", \"r\") as gramatica:\n",
    "    for line in gramatica:\n",
    "        REGRAS.append(line.strip().split('\\n')) #criando uma lista de lista, apendando valores a partir da quebra de linha"
   ]
  },
  {
   "cell_type": "code",
   "execution_count": 4,
   "metadata": {
    "scrolled": true
   },
   "outputs": [],
   "source": [
    "# ++++++    CODIGO FIRST  +++++++++\n",
    "NumeroDeRegras = len(REGRAS)\n",
    "QtdRegras = 0\n",
    "QtdPrimeiro = 0\n",
    "\n",
    "primeiro(PRIMEIROS, REGRAS)\n",
    "for i in PRIMEIROS:\n",
    "    DRegras[i] = REGRAS[QtdRegras][0][3:]\n",
    "    QtdRegras += 1\n",
    "\n",
    "for i in REGRAS:\n",
    "    if i[0][3].islower():\n",
    "        DPrimeiro[i[0][0]].extend(i[0][3])\n",
    "                    \n",
    "for i in REGRAS:\n",
    "    if i[0][3].isupper():\n",
    "        DPrimeiro[i[0][0]].extend(DPrimeiro[i[0][3]])\n",
    "\n",
    "with open(\"primeiros.txt\", \"w+\") as wp:\n",
    "    for k in DPrimeiro:\n",
    "        wp.write(\"first(%s): \\t \" % k)\n",
    "        wp.write(\"%s\\n\" % DPrimeiro[k])\n",
    "        \n"
   ]
  },
  {
   "cell_type": "code",
   "execution_count": null,
   "metadata": {},
   "outputs": [],
   "source": []
  },
  {
   "cell_type": "code",
   "execution_count": 8,
   "metadata": {},
   "outputs": [],
   "source": [
    "# ++++++    Following code is used to find the follows  ++++++\n",
    "#list(DRegras.keys())\n",
    "KRegras = list(DRegras.keys()) # a lista KRegras serve para armazenar as chaves do dicionario DRegras\n",
    "KCount = len(KRegras) #guardo o tamanho desta lista\n",
    "\n",
    "for k in DRegras: #percorro o meu dicionario DRegras\n",
    "    ListaRegras = DRegras[k] #pego o follow\n",
    "    aux = KRegras[0] #recebe o valor da primeira chave\n",
    "    \n",
    "    if k == aux: #se o valor valor de k for igual ao de aux\n",
    "        DSegundos[k].append('$') #apendo o $\n",
    "    for i in range(KCount): #range ate o tamanho Kcount\n",
    "        if KRegras[i] in ListaRegras: #se existir valor chave dentro da ListaRegras\n",
    "            \n",
    "            # Follow finding for last non-terminal in the\n",
    "            ultimoTerminal = list(ListaRegras) #recebe o valor e converte pra lista\n",
    "            # stores the index non-terminal we are finding the follow for in a\n",
    "            # variable\n",
    "            UltimoTerminalIndex = ultimoTerminal.index(KRegras[i]) #pega o valor do ultimo index contido Kregras\n",
    "\n",
    "            if UltimoTerminalIndex == (len(ultimoTerminal) - 1): #se o valor do ultimo index for igual ao tamanho do\n",
    "                                                            # do ultimoTerminal -1\n",
    "                # if the index of the current non-term is at last one, means that\n",
    "                # the follow for the current non-term will be the follow of the\n",
    "                # left-hand side\n",
    "                DSegundos[KRegras[i]].extend(DSegundos[KRegras[0]]) \n",
    "            else:\n",
    "                # If not then the first of the next non-term from the current\n",
    "                # non-term becomes the follow of the current\n",
    "                DSegundos[KRegras[i]].extend(\n",
    "                    DPrimeiro[KRegras[(i + 1) % KCount]])\n",
    "\n",
    "with open(\"follows.txt\", \"w+\") as wp:\n",
    "    for k in DSegundos:\n",
    "        wp.write(\"follow(%s): \\t\" % k)\n",
    "        wp.write(\"%s\\n\" % DSegundos[k])\n",
    "        "
   ]
  },
  {
   "cell_type": "code",
   "execution_count": null,
   "metadata": {},
   "outputs": [],
   "source": []
  },
  {
   "cell_type": "code",
   "execution_count": null,
   "metadata": {},
   "outputs": [],
   "source": []
  },
  {
   "cell_type": "code",
   "execution_count": null,
   "metadata": {},
   "outputs": [],
   "source": []
  },
  {
   "cell_type": "code",
   "execution_count": null,
   "metadata": {},
   "outputs": [],
   "source": []
  },
  {
   "cell_type": "code",
   "execution_count": null,
   "metadata": {},
   "outputs": [],
   "source": []
  },
  {
   "cell_type": "code",
   "execution_count": null,
   "metadata": {},
   "outputs": [],
   "source": []
  },
  {
   "cell_type": "code",
   "execution_count": null,
   "metadata": {},
   "outputs": [],
   "source": []
  },
  {
   "cell_type": "code",
   "execution_count": null,
   "metadata": {},
   "outputs": [],
   "source": []
  },
  {
   "cell_type": "code",
   "execution_count": null,
   "metadata": {},
   "outputs": [],
   "source": []
  },
  {
   "cell_type": "code",
   "execution_count": null,
   "metadata": {},
   "outputs": [],
   "source": [
    "# # ++++++    Following code is used to find the follows  ++++++\n",
    "# #list(DRegras.keys())\n",
    "# rules_keys = list(DRegras.keys())\n",
    "# key_count = len(rules_keys)\n",
    "\n",
    "# for k in DRegras:\n",
    "#     tmp_rule_str = DRegras[k]\n",
    "#     aux = rules_keys[0]\n",
    "    \n",
    "#     if k == aux:\n",
    "#         DSegundos[k].append('$')\n",
    "#     for i in range(key_count):\n",
    "#         if rules_keys[i] in tmp_rule_str:\n",
    "#             # Follow finding for last non-terminal in the\n",
    "#             tmp_rule_list = list(tmp_rule_str)\n",
    "#             # stores the index non-terminal we are finding the follow for in a\n",
    "#             # variable\n",
    "#             current_non_term_index = tmp_rule_list.index(rules_keys[i])\n",
    "\n",
    "#             if current_non_term_index == (len(tmp_rule_list) - 1):\n",
    "#                 # if the index of the current non-term is at last one, means that\n",
    "#                 # the follow for the current non-term will be the follow of the\n",
    "#                 # left-hand side\n",
    "#                 DSegundos[rules_keys[i]].extend(DSegundos[rules_keys[0]])\n",
    "#             else:\n",
    "#                 # If not then the first of the next non-term from the current\n",
    "#                 # non-term becomes the follow of the current\n",
    "#                 DSegundos[rules_keys[i]].extend(\n",
    "#                     DPrimeiro[rules_keys[(i + 1) % key_count]])\n",
    "\n",
    "# with open(\"follows.txt\", \"w+\") as wp:\n",
    "#     for k in DSegundos:\n",
    "#         wp.write(\"follow(%s): \\t\" % k)\n",
    "#         wp.write(\"%s\\n\" % DSegundos[k])\n",
    "        "
   ]
  }
 ],
 "metadata": {
  "kernelspec": {
   "display_name": "Python 3",
   "language": "python",
   "name": "python3"
  },
  "language_info": {
   "codemirror_mode": {
    "name": "ipython",
    "version": 3
   },
   "file_extension": ".py",
   "mimetype": "text/x-python",
   "name": "python",
   "nbconvert_exporter": "python",
   "pygments_lexer": "ipython3",
   "version": "3.7.6"
  }
 },
 "nbformat": 4,
 "nbformat_minor": 4
}
