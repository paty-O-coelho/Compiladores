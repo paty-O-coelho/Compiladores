{
 "cells": [
  {
   "cell_type": "code",
   "execution_count": 1,
   "metadata": {},
   "outputs": [
    {
     "ename": "FileNotFoundError",
     "evalue": "[Errno 2] No such file or directory: 'rules_test.txt'",
     "output_type": "error",
     "traceback": [
      "\u001b[1;31m---------------------------------------------------------------------------\u001b[0m",
      "\u001b[1;31mFileNotFoundError\u001b[0m                         Traceback (most recent call last)",
      "\u001b[1;32m<ipython-input-1-801711576fde>\u001b[0m in \u001b[0;36m<module>\u001b[1;34m\u001b[0m\n\u001b[0;32m     26\u001b[0m \u001b[1;33m\u001b[0m\u001b[0m\n\u001b[0;32m     27\u001b[0m \u001b[1;33m\u001b[0m\u001b[0m\n\u001b[1;32m---> 28\u001b[1;33m \u001b[1;32mwith\u001b[0m \u001b[0mopen\u001b[0m\u001b[1;33m(\u001b[0m\u001b[1;34m\"rules_test.txt\"\u001b[0m\u001b[1;33m,\u001b[0m \u001b[1;34m\"r\"\u001b[0m\u001b[1;33m)\u001b[0m \u001b[1;32mas\u001b[0m \u001b[0mfp\u001b[0m\u001b[1;33m:\u001b[0m\u001b[1;33m\u001b[0m\u001b[1;33m\u001b[0m\u001b[0m\n\u001b[0m\u001b[0;32m     29\u001b[0m     \u001b[1;32mfor\u001b[0m \u001b[0mline\u001b[0m \u001b[1;32min\u001b[0m \u001b[0mfp\u001b[0m\u001b[1;33m:\u001b[0m\u001b[1;33m\u001b[0m\u001b[1;33m\u001b[0m\u001b[0m\n\u001b[0;32m     30\u001b[0m         \u001b[1;31m# Splitting on newline and turning it into an array\u001b[0m\u001b[1;33m\u001b[0m\u001b[1;33m\u001b[0m\u001b[1;33m\u001b[0m\u001b[0m\n",
      "\u001b[1;31mFileNotFoundError\u001b[0m: [Errno 2] No such file or directory: 'rules_test.txt'"
     ]
    }
   ],
   "source": [
    "\"\"\"Finds the first and follow for a given grammar\"\"\"\n",
    "# Author Ojas Shirekar\n",
    "# Under the GPL license\n",
    "from collections import OrderedDict\n",
    "\n",
    "# Opening the rules file, doing it the hard coded way for development\n",
    "\n",
    "\n",
    "rules = []  # Raw grammar rules\n",
    "firsts = []  # Used as temp storage for firsts if needed\n",
    "\n",
    "# Ordered dictionary to maintain the order of saving in the dictionary\n",
    "# useful when doing the actual first finding in one pass.\n",
    "rules_dict = OrderedDict()  # Dictionary to store all the rules in the grammar\n",
    "firsts_dict = OrderedDict()  # Dictionary to store all the firsts\n",
    "follow_dict = OrderedDict()  # Dictionary that stores all follows\n",
    "\n",
    "\n",
    "def non_term_appender(firsts, rules):\n",
    "    \"\"\"Adds the non terminals on the left to the firsts_dict\"\"\"\n",
    "    for rule in rules:\n",
    "        if rule[0][0] not in firsts:\n",
    "            firsts.append(rule[0][0])\n",
    "            firsts_dict[rule[0][0]] = []\n",
    "            follow_dict[rule[0][0]] = []\n",
    "\n",
    "\n",
    "with open(\"rules_test.txt\", \"r\") as fp:\n",
    "    for line in fp:\n",
    "        # Splitting on newline and turning it into an array\n",
    "        rules.append(line.strip().split('\\n'))\n",
    "\n",
    "# ++++++    Following code is used to find firsts   +++++++++\n",
    "number_of_rules = len(rules)\n",
    "rule_count = first_count = 0\n",
    "non_term_appender(firsts, rules)\n",
    "for first in firsts:\n",
    "    rules_dict[first] = rules[rule_count][0][3:]\n",
    "    rule_count += 1\n",
    "\n",
    "for rule in rules:\n",
    "    if rule[0][3].islower():\n",
    "        firsts_dict[rule[0][0]].extend(rule[0][3])\n",
    "# TODO try and re implement one pass, as an else condition in the above loop.\n",
    "for rule in rules:\n",
    "    if rule[0][3].isupper():\n",
    "        firsts_dict[rule[0][0]].extend(firsts_dict[rule[0][3]])\n",
    "\n",
    "with open(\"firsts.txt\", \"w+\") as wp:\n",
    "    for k in firsts_dict:\n",
    "        wp.write(\"first(%s): \\t \" % k)\n",
    "        wp.write(\"%s\\n\" % firsts_dict[k])"
   ]
  },
  {
   "cell_type": "code",
   "execution_count": null,
   "metadata": {},
   "outputs": [],
   "source": []
  }
 ],
 "metadata": {
  "kernelspec": {
   "display_name": "Python 3",
   "language": "python",
   "name": "python3"
  },
  "language_info": {
   "codemirror_mode": {
    "name": "ipython",
    "version": 3
   },
   "file_extension": ".py",
   "mimetype": "text/x-python",
   "name": "python",
   "nbconvert_exporter": "python",
   "pygments_lexer": "ipython3",
   "version": "3.7.6"
  }
 },
 "nbformat": 4,
 "nbformat_minor": 4
}
