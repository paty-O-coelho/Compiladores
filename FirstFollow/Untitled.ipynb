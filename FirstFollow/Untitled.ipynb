{
 "cells": [
  {
   "cell_type": "code",
   "execution_count": 1,
   "metadata": {},
   "outputs": [],
   "source": [
    "def first_and_follow(grammar):\n",
    "    # first & follow sets, epsilon-productions\n",
    "    first = {i: set() for i in grammar.nonterminals}\n",
    "    first.update((i, {i}) for i in grammar.terminals)\n",
    "    follow = {i: set() for i in grammar.nonterminals}\n",
    "    epsilon = set()\n",
    "\n",
    "    while True:\n",
    "        updated = False\n",
    "        \n",
    "        for nt, expression in grammar.rules:\n",
    "            # FIRST set w.r.t epsilon-productions\n",
    "            for symbol in expression:\n",
    "                updated |= union(first[nt], first[symbol])\n",
    "                if symbol not in epsilon:\n",
    "                    break\n",
    "            else:\n",
    "                updated |= union(epsilon, {nt})\n",
    "                \n",
    "            # FOLLOW set w.r.t epsilon-productions\n",
    "            aux = follow[nt]\n",
    "            for symbol in reversed(expression):\n",
    "                if symbol in follow:\n",
    "                    updated |= union(follow[symbol], aux)\n",
    "                if symbol in epsilon:\n",
    "                    aux = aux.union(first[symbol])\n",
    "                else:\n",
    "                    aux = first[symbol]\n",
    "        \n",
    "        if not updated:\n",
    "            return first, follow, epsilon"
   ]
  },
  {
   "cell_type": "code",
   "execution_count": 2,
   "metadata": {},
   "outputs": [],
   "source": [
    "def union(first, begins):\n",
    "    n = len(first)\n",
    "    first |= begins\n",
    "    return len(first) != n"
   ]
  },
  {
   "cell_type": "code",
   "execution_count": 3,
   "metadata": {},
   "outputs": [],
   "source": [
    "class Grammar:\n",
    "    \n",
    "    def __init__(self, *rules):\n",
    "        self.rules = tuple(self._parse(rule) for rule in rules)\n",
    "\n",
    "    def _parse(self, rule):\n",
    "        return tuple(rule.replace(' ', '').split('::='))\n",
    "        \n",
    "    def __getitem__(self, nonterminal):\n",
    "        yield from [rule for rule in self.rules if rule[0] == nonterminal]\n",
    "        \n",
    "    @staticmethod #metodo da classe\n",
    "    def is_nonterminal(symbol):\n",
    "        return symbol.isalpha() and symbol.isupper()\n",
    "        \n",
    "    @property\n",
    "    def nonterminals(self):\n",
    "        return set(nt for nt, _ in self.rules)\n",
    "        \n",
    "    @property\n",
    "    def terminals(self):\n",
    "        return set(\n",
    "            symbol\n",
    "            for _, expression in self.rules\n",
    "            for symbol in expression\n",
    "            if not self.is_nonterminal(symbol)\n",
    "        )"
   ]
  },
  {
   "cell_type": "code",
   "execution_count": 7,
   "metadata": {},
   "outputs": [],
   "source": [
    "first, follow, epsilon = first_and_follow(Grammar(\n",
    "    'X ::= AB',\n",
    "    'A ::= a',\n",
    "    'A ::= B',\n",
    "    'B ::= b',\n",
    "))\n"
   ]
  },
  {
   "cell_type": "code",
   "execution_count": 11,
   "metadata": {},
   "outputs": [
    {
     "data": {
      "text/plain": [
       "{'^': {'(', 'x'},\n",
       " 'F': {'(', 'x'},\n",
       " 'E': {'(', 'x'},\n",
       " 'T': {'(', 'x'},\n",
       " 'x': {'x'},\n",
       " '*': {'*'},\n",
       " '+': {'+'},\n",
       " '$': {'$'},\n",
       " '(': {'('},\n",
       " ')': {')'}}"
      ]
     },
     "execution_count": 11,
     "metadata": {},
     "output_type": "execute_result"
    }
   ],
   "source": [
    "first"
   ]
  },
  {
   "cell_type": "code",
   "execution_count": 12,
   "metadata": {},
   "outputs": [
    {
     "data": {
      "text/plain": [
       "{'^': set(),\n",
       " 'F': {'$', ')', '*', '+'},\n",
       " 'E': {'$', ')', '+'},\n",
       " 'T': {'$', ')', '*', '+'}}"
      ]
     },
     "execution_count": 12,
     "metadata": {},
     "output_type": "execute_result"
    }
   ],
   "source": [
    "follow"
   ]
  },
  {
   "cell_type": "code",
   "execution_count": null,
   "metadata": {},
   "outputs": [],
   "source": []
  },
  {
   "cell_type": "code",
   "execution_count": null,
   "metadata": {},
   "outputs": [],
   "source": []
  },
  {
   "cell_type": "code",
   "execution_count": 10,
   "metadata": {},
   "outputs": [],
   "source": [
    "first, follow, epsilon = first_and_follow(Grammar(\n",
    "    '^ ::= E $',\n",
    "    'E ::= E + T',\n",
    "    'E ::= T',\n",
    "    'T ::= T * F',\n",
    "    'T ::= F',\n",
    "    'F ::= ( E )',\n",
    "    'F ::= x',\n",
    "))"
   ]
  },
  {
   "cell_type": "code",
   "execution_count": null,
   "metadata": {},
   "outputs": [],
   "source": []
  },
  {
   "cell_type": "code",
   "execution_count": null,
   "metadata": {},
   "outputs": [],
   "source": []
  },
  {
   "cell_type": "code",
   "execution_count": null,
   "metadata": {},
   "outputs": [],
   "source": []
  },
  {
   "cell_type": "code",
   "execution_count": null,
   "metadata": {},
   "outputs": [],
   "source": []
  },
  {
   "cell_type": "code",
   "execution_count": null,
   "metadata": {},
   "outputs": [],
   "source": []
  }
 ],
 "metadata": {
  "kernelspec": {
   "display_name": "Python 3",
   "language": "python",
   "name": "python3"
  },
  "language_info": {
   "codemirror_mode": {
    "name": "ipython",
    "version": 3
   },
   "file_extension": ".py",
   "mimetype": "text/x-python",
   "name": "python",
   "nbconvert_exporter": "python",
   "pygments_lexer": "ipython3",
   "version": "3.7.6"
  }
 },
 "nbformat": 4,
 "nbformat_minor": 4
}
