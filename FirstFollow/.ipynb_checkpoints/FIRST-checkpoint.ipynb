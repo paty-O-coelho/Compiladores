{
 "cells": [
  {
   "cell_type": "markdown",
   "metadata": {},
   "source": [
    "Para determinar PRIMEIRO(X):\n",
    "Considere A ∈ V, β ∈ (V ∪ T) γ ∈ (V ∪ T)*.\n",
    "1.     Se x é um terminal, então primeiro(x) = {x}.\n",
    " \n",
    "2. Se X é não-terminal e X → aA é uma produção, então se acrescenta a\n",
    "ao conjunto PRIMEIRO de x (obs.: a ≠ ε).\n",
    "a.     Se X produz ε, ε deve ser adicionado ao conjunto PRIMEIRO de x.\n",
    " \n",
    "3. Se X → Y1Y2...Yk é uma produção, então todo i tal que todos Y1...Yi-1\n",
    "são não-terminais e PRIMEIRO(Yj) contém ε, onde j=1,2...i-1. acrescente\n",
    "todo símbolo diferente de ε de PRIMEIRO(Yj) a PRIMEIRO(X).\n",
    "a. Se ε ∈ PRIMEIRO(Y), para todo i=1,2..k. então acrescente ε a\n",
    "PRIMEIRO(X).\n",
    "\n",
    "#### Entrada\n",
    "E → TG\n",
    "\n",
    "G → +TG | ε\n",
    "\n",
    "T → FH\n",
    "\n",
    "H → *FH | ε\n",
    "\n",
    "F → (E) | id\n",
    "\n",
    "#### Saida\n",
    "\n",
    "Primeiro (E) = Primeiro(T) = Primeiro(F) ={ (, id }\n",
    "\n",
    "Primeiro (G) = {+, ε}\n",
    "\n",
    "Primeiro (T) = Primeiro(F) = {(, id}\n",
    "\n",
    "Primeiro (H) = {*, ε}\n",
    "\n",
    "Primeiro (F) = {(, id}\n"
   ]
  },
  {
   "cell_type": "code",
   "execution_count": null,
   "metadata": {},
   "outputs": [],
   "source": []
  },
  {
   "cell_type": "code",
   "execution_count": 1,
   "metadata": {},
   "outputs": [],
   "source": [
    "from collections import OrderedDict\n",
    "# PATRICIA\n",
    "REGRAS = []  \n",
    "PRIMEIROS = []  \n",
    "\n",
    "DRegras = OrderedDict()  \n",
    "DPrimeiro = OrderedDict()  \n",
    "DSegundos = OrderedDict()  \n",
    "\n"
   ]
  },
  {
   "cell_type": "code",
   "execution_count": 2,
   "metadata": {},
   "outputs": [],
   "source": [
    "def primeiro(PRIMEIROS,REGRAS):\n",
    "    for i in REGRAS:\n",
    "        if i[0][0]not in PRIMEIROS:\n",
    "            PRIMEIROS.append(i[0][0])\n",
    "            DPrimeiro[i[0][0]]= []\n",
    "            DSegundos[i[0][0]]=[]\n",
    "\n",
    "with open(\"gramatica.txt\", \"r\") as gramatica:\n",
    "    for line in gramatica:\n",
    "        REGRAS.append(line.strip().split('\\n')) #criando uma lista de lista, apendando valores a partir da quebra de linha"
   ]
  },
  {
   "cell_type": "code",
   "execution_count": 3,
   "metadata": {
    "scrolled": true
   },
   "outputs": [],
   "source": [
    "# ++++++    CODIGO FIRST  +++++++++\n",
    "NumeroDeRegras = len(REGRAS)\n",
    "QtdRegras = 0\n",
    "QtdPrimeiro = 0\n",
    "\n",
    "primeiro(PRIMEIROS, REGRAS)\n",
    "for i in PRIMEIROS:\n",
    "    DRegras[i] = REGRAS[QtdRegras][0][3:]\n",
    "    QtdRegras += 1\n",
    "\n",
    "for i in REGRAS:\n",
    "    if i[0][3].islower():\n",
    "        DPrimeiro[i[0][0]].extend(i[0][3])\n",
    "                    \n",
    "for i in REGRAS:\n",
    "    if i[0][3].isupper():\n",
    "        DPrimeiro[i[0][0]].extend(DPrimeiro[i[0][3]])\n",
    "\n",
    "with open(\"primeiros.txt\", \"w+\") as wp:\n",
    "    for k in DPrimeiro:\n",
    "        wp.write(\"first(%s): \\t \" % k)\n",
    "        wp.write(\"%s\\n\" % DPrimeiro[k])\n",
    "        \n"
   ]
  },
  {
   "cell_type": "code",
   "execution_count": null,
   "metadata": {},
   "outputs": [],
   "source": []
  },
  {
   "cell_type": "code",
   "execution_count": null,
   "metadata": {},
   "outputs": [],
   "source": [
    "# ++++++    Following code is used to find the follows  ++++++\n",
    "\n",
    "K_Regras = DRegras.keys()\n",
    "Qtd_K = len(DRegras)\n",
    "\n",
    "for k in DRegras:\n",
    "    AUXtmp_rule_str = DRegras[k]\n",
    "    if k == DRegras[0]:\n",
    "        DSegundos[k].append('$')\n",
    "    for i in xrange(Qtd_K):\n",
    "        if DRegras[i] in AUXtmp_rule_str:\n",
    "            # Follow finding for last non-terminal in the\n",
    "            AUX_List = list(AUXtmp_rule_str)\n",
    "            # stores the index non-terminal we are finding the follow for in a\n",
    "            # variable\n",
    "            indice = AUX_List.index(DRegras[i])\n",
    "\n",
    "            if indice == (len(AUX_List) - 1):\n",
    "                # if the index of the current non-term is at last one, means that\n",
    "                # the follow for the current non-term will be the follow of the\n",
    "                # left-hand side\n",
    "                DSegundos[K_Regras[i]].extend(DSegundos[K_Regras[0]])\n",
    "            else:\n",
    "                # If not then the first of the next non-term from the current\n",
    "                # non-term becomes the follow of the current\n",
    "                DSegundos[K_Regras[i]].extend(\n",
    "                    DPrimeiro[K_Regras[(i + 1) % Qtd_K]])\n",
    "\n",
    "with open(\"seguintes.txt\", \"w+\") as wp:\n",
    "    for k in follow_dict:\n",
    "        wp.write(\"follow(%s): \\t\" % k)\n",
    "        wp.write(\"%s\\n\" % follow_dict[k])\n",
    "        \n",
    "        \n",
    "# print \"Firsts Dict:\" + \" \" + follow_dict\n",
    "# print \"Follow Dict:\" + \" \" + firsts_dict"
   ]
  },
  {
   "cell_type": "code",
   "execution_count": null,
   "metadata": {},
   "outputs": [],
   "source": []
  }
 ],
 "metadata": {
  "kernelspec": {
   "display_name": "Python 3",
   "language": "python",
   "name": "python3"
  },
  "language_info": {
   "codemirror_mode": {
    "name": "ipython",
    "version": 3
   },
   "file_extension": ".py",
   "mimetype": "text/x-python",
   "name": "python",
   "nbconvert_exporter": "python",
   "pygments_lexer": "ipython3",
   "version": "3.7.6"
  }
 },
 "nbformat": 4,
 "nbformat_minor": 4
}
