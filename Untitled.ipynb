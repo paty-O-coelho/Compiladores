{
 "cells": [
  {
   "cell_type": "code",
   "execution_count": 122,
   "metadata": {},
   "outputs": [],
   "source": [
    "\n",
    "import re \n",
    "#delititado por espaço\n",
    "exemplo = '42 + ( 675 * 31 ) -20925 + a ** B c D'\n",
    "\n",
    "table_of_operations = {'*':'Mutiplicacao', '**':'Potenciacao',\n",
    "'+':'soma', '-':'subtracao', '/': 'divisao'}\n",
    "\n",
    "#\n",
    "string=[]\n",
    "numero=[]\n",
    "operations=[]\n",
    "a=[]\n",
    "teste =re.split(r' ', exemplo)\n",
    "\n",
    "#aqui estamos usando um regex para encontrar todos os numero (\\d)\n",
    "#e inserir eles na em x1, usando uma função lambda e a filter (abaixo fazemos um cast de filter para list)\n",
    "x1= filter(lambda i: re.search(r'(?i)\\d',i,re.I), teste)\n",
    "numeros= list(x1)\n",
    "#usando expressao regular para encontrar o (\n",
    "x2 =filter(lambda i:re.search(r'\\(', i),teste)\n",
    "x_2=list(x2)\n",
    "\n",
    "#usando expressao regular para encontrar o (\n",
    "x3 =filter(lambda i:re.search(r'\\)', i),teste)\n",
    "x_3=list(x3)\n",
    "\n",
    "x4= filter(lambda i:re.findall(r'[A-Z-a-b]', i),teste)\n",
    "x_4=list(x4)\n",
    " #operacoes       \n",
    "for i in teste:\n",
    "    if re.findall(r'[A-Z-a-b]', i):#problema ta no regex\n",
    "        string.append(i) #ele ta pegando o valor negativo -20925\n",
    "\n",
    "#DEU PROBLEMA AQUI        \n",
    "#x5=filter(lambda i:re.findall(r'[+ / * - ** =]',i),exemplo)\n",
    "#x_5=list(x5)\n",
    "\n",
    "#AQUI FUNCIONOU DIREITO\n",
    "for i in teste:\n",
    "    if re.findall(r'[+ / * - ** =]',i):\n",
    "        operations.append(i)\n",
    "   "
   ]
  },
  {
   "cell_type": "code",
   "execution_count": 89,
   "metadata": {},
   "outputs": [],
   "source": [
    "numeros=[0,14,4,6,7]\n",
    "pares = filter(lambda valor: valor % 2 == 0, numeros)\n",
    "list(pares)\n",
    "\n",
    "\n"
   ]
  },
  {
   "cell_type": "code",
   "execution_count": 95,
   "metadata": {},
   "outputs": [],
   "source": [
    "import re\n",
    "numeros=[]\n",
    "exemplo = '42 + ( 675 * 31 ) -20925 + a ** B c D'\n",
    "teste =re.split(r' ', exemplo)\n"
   ]
  },
  {
   "cell_type": "code",
   "execution_count": null,
   "metadata": {},
   "outputs": [],
   "source": [
    "[2 , numero, 2]\n",
    "[+, operacao, soma]"
   ]
  },
  {
   "cell_type": "code",
   "execution_count": 98,
   "metadata": {},
   "outputs": [
    {
     "data": {
      "text/plain": [
       "list"
      ]
     },
     "execution_count": 98,
     "metadata": {},
     "output_type": "execute_result"
    }
   ],
   "source": [
    "type(numeros)"
   ]
  },
  {
   "cell_type": "code",
   "execution_count": 125,
   "metadata": {},
   "outputs": [
    {
     "data": {
      "text/plain": [
       "[' ',\n",
       " '+',\n",
       " ' ',\n",
       " ' ',\n",
       " ' ',\n",
       " '*',\n",
       " ' ',\n",
       " ' ',\n",
       " ' ',\n",
       " ' ',\n",
       " '+',\n",
       " ' ',\n",
       " ' ',\n",
       " '*',\n",
       " '*',\n",
       " ' ',\n",
       " ' ',\n",
       " ' ']"
      ]
     },
     "execution_count": 125,
     "metadata": {},
     "output_type": "execute_result"
    }
   ],
   "source": [
    "x_5"
   ]
  },
  {
   "cell_type": "code",
   "execution_count": null,
   "metadata": {},
   "outputs": [],
   "source": []
  }
 ],
 "metadata": {
  "kernelspec": {
   "display_name": "Python 3",
   "language": "python",
   "name": "python3"
  },
  "language_info": {
   "codemirror_mode": {
    "name": "ipython",
    "version": 3
   },
   "file_extension": ".py",
   "mimetype": "text/x-python",
   "name": "python",
   "nbconvert_exporter": "python",
   "pygments_lexer": "ipython3",
   "version": "3.6.5"
  }
 },
 "nbformat": 4,
 "nbformat_minor": 2
}
