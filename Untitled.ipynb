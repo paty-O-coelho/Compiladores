{
 "cells": [
  {
   "cell_type": "markdown",
   "metadata": {},
   "source": [
    "\"\"\"\"\n",
    "import re \n",
    "import pandas as pd\n",
    "#delititado por espaço\n",
    "\n",
    "#exemplo = '42 + ( 675 * 31 ) -20925 + a B D c **'\n",
    "exemplo = '42 + ('\n",
    "\n",
    "table_of_operations = {'*':'Mutiplicacao', '**':'Potenciacao','+':'soma', '-':'subtracao', '/': 'divisao'}\n",
    "string=[]\n",
    "numero=[]\n",
    "operations=[]\n",
    "a=[]\n",
    "teste =re.split(r' ', exemplo)\n",
    "\n",
    "\n",
    "#aqui estamos usando um regex para encontrar todos os numero (\\d)\n",
    "#e inserir eles na em x1, usando uma função lambda e a filter (abaixo fazemos um cast de filter para list)\n",
    "x1= filter(lambda i: re.search(r'(?i)\\d',i,re.I), teste)\n",
    "numeros= list(x1)\n",
    "\n",
    "#usando expressao regular para encontrar o (\n",
    "x2 =filter(lambda i:re.search(r'\\(', i),teste)\n",
    "x_parentEsqu=list(x2)\n",
    "\n",
    "#usando expressao regular para encontrar o (\n",
    "x3 =filter(lambda i:re.search(r'\\)', i),teste)\n",
    "x_parentDire=list(x3)\n",
    "\n",
    "#Essas moças nao vao ser usadas\n",
    "#x4= filter(lambda i:re.findall(r'[a-zA-Z]', i),teste)\n",
    "#string=list(x4)\n",
    " #operacoes       \n",
    "\n",
    "    \n",
    "    \n",
    "#DEU PROBLEMA AQUI        \n",
    "#x5=filter(lambda i:re.findall(r'[+ / * - ** =]',i),exemplo)\n",
    "#x_5=list(x5)\n",
    "\n",
    "\n",
    "#AQUI FUNCIONOU DIREITO\n",
    "for i in teste:\n",
    "    if re.findall(r'[+ / * - ** =]',i):\n",
    "        operations.append(i)\n",
    "   \n",
    "\n",
    "\"\"\"\"\"\n"
   ]
  },
  {
   "cell_type": "code",
   "execution_count": 143,
   "metadata": {},
   "outputs": [
    {
     "name": "stdout",
     "output_type": "stream",
     "text": [
      "['+'] ['42']\n"
     ]
    }
   ],
   "source": [
    "print(operations,numeros)"
   ]
  },
  {
   "cell_type": "markdown",
   "metadata": {},
   "source": [
    "# \"\"\"\n",
    "data = {    \n",
    "'Lexema':'23',\n",
    "'Tipo': ['Numeros', 'Operador', 'Pontuacao'],\n",
    "'Valor': ['42', 'Soma', 'Paresq']\n",
    "}\n",
    "\n",
    "df = pd.DataFrame(data, columns=['Lexema','Tipo','Valor'])\n",
    "\"\"\""
   ]
  },
  {
   "cell_type": "code",
   "execution_count": 144,
   "metadata": {},
   "outputs": [],
   "source": [
    "df2 = pd.DataFrame([\n",
    "      [teste[0],teste[1]],\n",
    "      [teste[1],'gaucho']\n",
    "    ],\n",
    "  columns=['Lexema', 'Description']\n",
    ")\n"
   ]
  },
  {
   "cell_type": "code",
   "execution_count": 81,
   "metadata": {},
   "outputs": [],
   "source": [
    "newdict = {1:0, 2:0, 3:0}"
   ]
  },
  {
   "cell_type": "code",
   "execution_count": 20,
   "metadata": {},
   "outputs": [
    {
     "data": {
      "text/plain": [
       "[1, 2, 3]"
      ]
     },
     "execution_count": 20,
     "metadata": {},
     "output_type": "execute_result"
    }
   ],
   "source": [
    "#[*newdict]"
   ]
  },
  {
   "cell_type": "code",
   "execution_count": null,
   "metadata": {},
   "outputs": [],
   "source": [
    "for i in range(0,10):\n",
    "    df2 = pd.DataFrame([\n",
    "        [teste[i],'gaucho']],\n",
    "  columns=['Product ID', 'Description']\n",
    ")"
   ]
  },
  {
   "cell_type": "code",
   "execution_count": 298,
   "metadata": {},
   "outputs": [],
   "source": [
    "import re \n",
    "import pandas as pd\n",
    "#delititado por espaço\n",
    "exemplo = '42 + ( 675 * 31 ) - 20925 **'\n",
    "\n",
    "operations=[]\n",
    "teste =re.split(r' ', exemplo)\n",
    "\n",
    "x1= filter(lambda i: re.search(r'(?i)\\d',i,re.I), teste)\n",
    "numeros= list(x1)\n",
    "x2 =filter(lambda i:re.search(r'\\(', i),teste)\n",
    "x_parentEsqu=list(x2)\n",
    "x3 =filter(lambda i:re.search(r'\\)', i),teste)\n",
    "x_parentDire=list(x3)\n",
    "for i in teste:\n",
    "    if re.findall(r'[- / * + ** =]',i):\n",
    "        operations.append(i)\n",
    "\n",
    "table_of_operations = {'*':'Mutiplicacao', '**':'Potenciacao','+':'Soma', '-':'Subtracao', '/': 'Divisao'} \n",
    "table_of_parenthesis={'(':'ParentEsq', ')':'ParentDir'}\n",
    "table_of_types = {}\n",
    "\n",
    "\n",
    "valor=[]\n",
    "#primeiro para Operador\n",
    "for i in teste:\n",
    "    if i in operations:\n",
    "        valor.append(table_of_operations[i])\n",
    "    elif i in x_parentEsqu:\n",
    "        valor.append(table_of_parenthesis[i])\n",
    "    elif i in x_parentDire:\n",
    "        valor.append(table_of_parenthesis[i])    \n",
    "    else :\n",
    "        valor.append(i)\n",
    "        \n",
    "        \n",
    "tipo=[]\n",
    "#primeiro para Operador\n",
    "for i in teste:\n",
    "    if i in operations:\n",
    "        tipo.append('Operador')\n",
    "    elif i in x_parentEsqu:\n",
    "        tipo.append('Pontuação')\n",
    "    elif i in x_parentDire:\n",
    "        tipo.append('Pontuação')    \n",
    "    else :\n",
    "        tipo.append('Numero')     \n",
    "        \n",
    "result =list(zip(teste,tipo,valor))        \n"
   ]
  },
  {
   "cell_type": "code",
   "execution_count": 299,
   "metadata": {},
   "outputs": [
    {
     "data": {
      "text/plain": [
       "[('42', 'Numero', '42'),\n",
       " ('+', 'Operador', 'Soma'),\n",
       " ('(', 'Pontuação', 'ParentEsq'),\n",
       " ('675', 'Numero', '675'),\n",
       " ('*', 'Operador', 'Mutiplicacao'),\n",
       " ('31', 'Numero', '31'),\n",
       " (')', 'Pontuação', 'ParentDir'),\n",
       " ('-', 'Operador', 'Subtracao'),\n",
       " ('20925', 'Numero', '20925'),\n",
       " ('**', 'Operador', 'Potenciacao')]"
      ]
     },
     "execution_count": 299,
     "metadata": {},
     "output_type": "execute_result"
    }
   ],
   "source": [
    "result"
   ]
  }
 ],
 "metadata": {
  "kernelspec": {
   "display_name": "Python 3",
   "language": "python",
   "name": "python3"
  },
  "language_info": {
   "codemirror_mode": {
    "name": "ipython",
    "version": 3
   },
   "file_extension": ".py",
   "mimetype": "text/x-python",
   "name": "python",
   "nbconvert_exporter": "python",
   "pygments_lexer": "ipython3",
   "version": "3.7.4"
  }
 },
 "nbformat": 4,
 "nbformat_minor": 2
}
