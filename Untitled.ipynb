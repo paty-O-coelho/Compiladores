{
 "cells": [
  {
   "cell_type": "code",
   "execution_count": 164,
   "metadata": {},
   "outputs": [],
   "source": [
    "\n",
    "import re \n",
    "#delititado por espaço\n",
    "exemplo = '42 + ( 675 * 31 ) -20925 + a B D c ** '\n",
    "\n",
    "table_of_operations = {'*':'Mutiplicacao', '**':'Potenciacao','+':'soma', '-':'subtracao', '/': 'divisao'}\n",
    "string=[]\n",
    "numero=[]\n",
    "operations=[]\n",
    "a=[]\n",
    "teste =re.split(r' ', exemplo)\n",
    "\n",
    "#aqui estamos usando um regex para encontrar todos os numero (\\d)\n",
    "#e inserir eles na em x1, usando uma função lambda e a filter (abaixo fazemos um cast de filter para list)\n",
    "x1= filter(lambda i: re.search(r'(?i)\\d',i,re.I), teste)\n",
    "numeros= list(x1)\n",
    "#usando expressao regular para encontrar o (\n",
    "x2 =filter(lambda i:re.search(r'\\(', i),teste)\n",
    "x_2=list(x2)\n",
    "\n",
    "#usando expressao regular para encontrar o (\n",
    "x3 =filter(lambda i:re.search(r'\\)', i),teste)\n",
    "x_3=list(x3)\n",
    "\n",
    "x4= filter(lambda i:re.findall(r'[a-zA-Z]', i),teste)\n",
    "string=list(x4)\n",
    " #operacoes       \n",
    "\n",
    "#DEU PROBLEMA AQUI        \n",
    "x5=filter(lambda i:re.findall(r'[+ / * - ** =]',i),exemplo)\n",
    "x_5=list(x5)\n",
    "\n",
    "#AQUI FUNCIONOU DIREITO\n",
    "for i in teste:\n",
    "    if re.findall(r'[+ / * - ** =]',i):\n",
    "        operations.append(i)\n",
    "   "
   ]
  },
  {
   "cell_type": "code",
   "execution_count": 166,
   "metadata": {},
   "outputs": [
    {
     "name": "stdout",
     "output_type": "stream",
     "text": [
      "['a', 'B', 'D', 'c'] ['+', '*', '+', '**'] ['42', '675', '31', '-20925'] ['('] [')']\n"
     ]
    }
   ],
   "source": [
    "print(string, operations, numeros, x_2,x_3)"
   ]
  },
  {
   "cell_type": "code",
   "execution_count": null,
   "metadata": {},
   "outputs": [],
   "source": [
    "resultado = [variaveis, operacoes, numero , parentese]"
   ]
  },
  {
   "cell_type": "code",
   "execution_count": null,
   "metadata": {},
   "outputs": [],
   "source": [
    "[2 , numero, 2]\n",
    "[+, operacao, soma]"
   ]
  },
  {
   "cell_type": "code",
   "execution_count": 98,
   "metadata": {},
   "outputs": [
    {
     "data": {
      "text/plain": [
       "list"
      ]
     },
     "execution_count": 98,
     "metadata": {},
     "output_type": "execute_result"
    }
   ],
   "source": [
    "type(numeros)"
   ]
  },
  {
   "cell_type": "code",
   "execution_count": 130,
   "metadata": {},
   "outputs": [
    {
     "data": {
      "text/plain": [
       "['+', '*', '+', '**']"
      ]
     },
     "execution_count": 130,
     "metadata": {},
     "output_type": "execute_result"
    }
   ],
   "source": [
    "operations"
   ]
  },
  {
   "cell_type": "code",
   "execution_count": null,
   "metadata": {},
   "outputs": [],
   "source": []
  }
 ],
 "metadata": {
  "kernelspec": {
   "display_name": "Python 3",
   "language": "python",
   "name": "python3"
  },
  "language_info": {
   "codemirror_mode": {
    "name": "ipython",
    "version": 3
   },
   "file_extension": ".py",
   "mimetype": "text/x-python",
   "name": "python",
   "nbconvert_exporter": "python",
   "pygments_lexer": "ipython3",
   "version": "3.6.5"
  }
 },
 "nbformat": 4,
 "nbformat_minor": 2
}
